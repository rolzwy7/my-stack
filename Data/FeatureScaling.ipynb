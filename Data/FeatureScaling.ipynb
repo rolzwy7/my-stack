{
 "cells": [
  {
   "cell_type": "markdown",
   "metadata": {},
   "source": [
    "<h1 style=\"text-align:center;\">Feature scaling</h1>"
   ]
  },
  {
   "cell_type": "code",
   "execution_count": 7,
   "metadata": {
    "collapsed": true
   },
   "outputs": [],
   "source": [
    "array = [57, 9, 19, 45, 78]"
   ]
  },
  {
   "cell_type": "markdown",
   "metadata": {},
   "source": [
    "<b>Minmax normalization</b>\n",
    "\\begin{equation*}\n",
    "\\bar{x} = \\frac{x - min(x)}{max(x) - min(x)}\n",
    "\\end{equation*}"
   ]
  },
  {
   "cell_type": "code",
   "execution_count": 8,
   "metadata": {
    "collapsed": false
   },
   "outputs": [
    {
     "data": {
      "text/plain": [
       "[0.6956521739130435, 0.0, 0.14492753623188406, 0.5217391304347826, 1.0]"
      ]
     },
     "execution_count": 8,
     "metadata": {},
     "output_type": "execute_result"
    }
   ],
   "source": [
    "arr = array\n",
    "min_, max_ = min(arr), max(arr)\n",
    "arr = list(map(lambda x: (x - min_)/(max_ - min_), arr))\n",
    "arr"
   ]
  },
  {
   "cell_type": "markdown",
   "metadata": {},
   "source": [
    "<b>Mean normalization</b>\n",
    "\\begin{equation*}\n",
    "\\bar{x} = \\frac{x - average(x)}{max(x) - min(x)}\n",
    "\\end{equation*}"
   ]
  },
  {
   "cell_type": "code",
   "execution_count": 9,
   "metadata": {
    "collapsed": false
   },
   "outputs": [
    {
     "data": {
      "text/plain": [
       "[0.22318840579710142,\n",
       " -0.47246376811594204,\n",
       " -0.327536231884058,\n",
       " 0.04927536231884056,\n",
       " 0.527536231884058]"
      ]
     },
     "execution_count": 9,
     "metadata": {},
     "output_type": "execute_result"
    }
   ],
   "source": [
    "arr = array\n",
    "max_ = max(arr)\n",
    "avg = sum(arr)/len(arr)\n",
    "arr = list(map(lambda x: (x - avg)/(max_ - min_), arr))\n",
    "arr"
   ]
  }
 ],
 "metadata": {
  "kernelspec": {
   "display_name": "Python 3",
   "language": "python",
   "name": "python3"
  },
  "language_info": {
   "codemirror_mode": {
    "name": "ipython",
    "version": 3
   },
   "file_extension": ".py",
   "mimetype": "text/x-python",
   "name": "python",
   "nbconvert_exporter": "python",
   "pygments_lexer": "ipython3",
   "version": "3.6.6"
  }
 },
 "nbformat": 4,
 "nbformat_minor": 2
}
